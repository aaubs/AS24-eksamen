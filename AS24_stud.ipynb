{
 "cells": [
  {
   "cell_type": "markdown",
   "id": "8958e2cb",
   "metadata": {},
   "source": [
    "# Anvendt Statisik\n",
    "Eksamen efter Studieordning 2020\n",
    "\n",
    "- Du kan bruge en Jupyter-baseret platform af dit valg (Jupyter lokalt, uCloud, Colab). \n",
    "- **Hvis** du arbejder på din egen maskine (offline python, dvs. ikke Colab eller uCloud): For at løse opgaven, skal standardpakker `pandas` og `seaborn` være installeret.\n",
    "- 🧘‍♀️ Lad være med at gå i panik! Hvis koden ikke fungerer (men gjorde det før), så start igen øverst i koden og kør nedad. Det er også en god idé at bruge denne metode for at kontrollere koden for fejl, mens du arbejder på den.\n",
    "- 📚 Du kan bruge hjælpemidler, og det forventes, at du kan slå funktioner op, fx på 🌊 https://seaborn.pydata.org/api.html eller 🐼 https://pandas.pydata.org/docs/reference/index.html#api.\n",
    "- 🛑🛑🛑 Du må ikke bruge chatGPT, Google Gemini, Copilot eller lignende generative AI tools - hverken online eller lokale løsninger 🛑🛑🛑\n",
    "- 🤓 LÆS opgaven grundigt i hver celle og hvad der forventes af dig!\n",
    "- 📝 De fleste fejl skyldes små stavefejl. Vær opmærksom på kommaer, punktummer i koden osv.\n",
    "- 💬 Hvis du ikke kan løse noget, kan du kommentere ud med `#`.\n",
    "- 👁️‍🗨️ Sørg for, at output er synligt (fx dine plots).\n",
    "- 🤥 Lad være med at snyde! Gruppearbejde er ikke tilladt.\n",
    "- 📧 Tjek din AAU-mail for eventuelle (f.eks. afopdateringer fra underviserne i løbet af eksamen.\n",
    "- 🚫 Brug kun objektnavne, der er defineret i opgaven.\n",
    "- 📩 Opgaven skal afleveres som en ipynb-fil (ikke som PDF). Du kan downloade filen fra fx Colab eller aflevere den åbne ipynb-fil i Jupyter Lab.\n",
    "\n",
    "Koden er delvist givet, og du skal udfylde de steder, hvor der står `...`\n",
    "\n",
    "\"🎯 Svar: _ _ _\" betyder, at du skal skrive 1-3 sættninger der besvarer et spørgsmål eller fortolker resultater af dine beregninger.\n",
    "\n",
    "### Opgavekontekst\n",
    "\n",
    "I denne opgave vil vi arbejde med et datasæt, der indeholder information om boliger i Danmark. Vores mål er at udforske og analysere dataene ved hjælp af forskellige statistiske værktøjer og visualiseringer.\n",
    "\n",
    "### Forberedelse\n",
    "\n",
    "**Importér nødvendige pakker:** Start med at importere de pakker, der er nødvendige for at gennemføre opgaven. Dette inkluderer pandas for datahåndtering, seaborn og matplotlib for visualiseringer."
   ]
  },
  {
   "cell_type": "code",
   "execution_count": null,
   "id": "d87b240d",
   "metadata": {},
   "outputs": [],
   "source": [
    "import pandas as pd\n",
    "import seaborn as sns\n",
    "import matplotlib.pyplot as plt\n",
    "\n",
    "pd.set_option('display.float_format', lambda x: '%.5f' % x)  # Afbryder \"scientific notation\"\n",
    "sns.set()\n",
    "plt.style.use(\"fivethirtyeight\")\n",
    "pd.set_option(\"display.float_format\", \"{:.2f}\".format)\n",
    "pd.set_option(\"display.max_columns\", 80)\n",
    "pd.set_option(\"display.max_rows\", 80)"
   ]
  },
  {
   "cell_type": "markdown",
   "id": "f4b7a4fc",
   "metadata": {},
   "source": [
    "**Indlæs datasættet:** Datasættet `boligpriser_geo.csv.gz` indeholder oplysninger om boliger. Indlæs dette datasæt.\n",
    "Data findes også her: `https://aaubs.github.io/ds-master/data/boligpriser/boligpriser_geo.csv.gz`"
   ]
  },
  {
   "cell_type": "code",
   "execution_count": null,
   "id": "a1f745c1",
   "metadata": {},
   "outputs": [],
   "source": [
    "df = pd.read_..."
   ]
  },
  {
   "cell_type": "markdown",
   "id": "38bffb7b",
   "metadata": {},
   "source": [
    "**Oversigt over datasættet:** Vis de første par rækker for at få et overblik over datasættet."
   ]
  },
  {
   "cell_type": "code",
   "execution_count": null,
   "id": "bc002f1b",
   "metadata": {},
   "outputs": [],
   "source": [
    "..."
   ]
  },
  {
   "cell_type": "markdown",
   "id": "52fc02ea",
   "metadata": {},
   "source": [
    "### Datarensning og -forberedelse\n",
    "\n",
    "**Tjek for manglende data:** Er der kolonner med manglende værdier? Hvis ja, overvej hvordan du vil håndtere disse (svar i teskst)? Giv 1-2 muligheder hvordan man kan håndtere manglende data - hvis ikke man fjerner observationer hvor der er manglende værdier."
   ]
  },
  {
   "cell_type": "code",
   "execution_count": null,
   "id": "7b125445",
   "metadata": {},
   "outputs": [],
   "source": [
    "..."
   ]
  },
  {
   "cell_type": "markdown",
   "id": "a207eb18",
   "metadata": {},
   "source": [
    "🎯 Svar: _ _ _"
   ]
  },
  {
   "cell_type": "markdown",
   "id": "c098d6b1",
   "metadata": {},
   "source": [
    "**Fjern observerationer med manglende data:**"
   ]
  },
  {
   "cell_type": "code",
   "execution_count": null,
   "id": "7bbaaaac",
   "metadata": {},
   "outputs": [],
   "source": [
    "# Fjern rækker med manglende værdier\n",
    "df = ..."
   ]
  },
  {
   "cell_type": "markdown",
   "id": "e527051f",
   "metadata": {},
   "source": [
    "**Grundlæggende statistik:** Beregn grundlæggende statistikker (middelværdi, median, standardafvigelse osv.) for `price_per_sqm` og `area`. Hvad fortæller disse statistikker os om datasættet?"
   ]
  },
  {
   "cell_type": "code",
   "execution_count": null,
   "id": "53786d53",
   "metadata": {},
   "outputs": [],
   "source": [
    "df[...]. ... ()"
   ]
  },
  {
   "cell_type": "markdown",
   "id": "aa3031b1",
   "metadata": {},
   "source": [
    "**Find det billigste hus:** Hvilken række i datasættet indeholder det billigste hus eller lejlighed? Vis pris, areal, kvadratmeterpris og kommunenavn (`label_dk`) for denne række."
   ]
  },
  {
   "cell_type": "code",
   "execution_count": null,
   "id": "d4ffd07c",
   "metadata": {},
   "outputs": [],
   "source": [
    "..."
   ]
  },
  {
   "cell_type": "markdown",
   "id": "0e57ad47",
   "metadata": {},
   "source": [
    "Synes du det er en realistisk pris for en bolig ud fra en logisk vurdering eller ejendommens karakteristika? Hvorfor/hvorfor ikke?\n",
    "\n",
    "🎯 Svar: _ _ _"
   ]
  },
  {
   "cell_type": "markdown",
   "id": "db8fd007",
   "metadata": {},
   "source": [
    "### Dataanalyse\n",
    "\n",
    "**Filtrering af data:** For at undgå skævhed fra ekstreme værdier, begræns datasættet til den 1. (inkl.) - 95 (eksl.). percentil baseret på `price`. "
   ]
  },
  {
   "cell_type": "code",
   "execution_count": null,
   "id": "adf174a2",
   "metadata": {},
   "outputs": [],
   "source": [
    "# du må skrive det i én linje eller bruge flere linjer til at beskære dataen\n",
    "df = ..."
   ]
  },
  {
   "cell_type": "markdown",
   "id": "fe2f597e",
   "metadata": {},
   "source": [
    "👉 ‼ brug dette datasæt fremadrettet ‼ "
   ]
  },
  {
   "cell_type": "markdown",
   "id": "91cac24c",
   "metadata": {},
   "source": [
    "**Prisfordeling:** Undersøg prisfordelingen i det filtrerede datasæt. Lav et histogram `(kde=True)` og beskriv, hvad du observerer."
   ]
  },
  {
   "cell_type": "code",
   "execution_count": null,
   "id": "3e8276f8",
   "metadata": {},
   "outputs": [],
   "source": [
    "..."
   ]
  },
  {
   "cell_type": "markdown",
   "id": "8f0f8441",
   "metadata": {},
   "source": [
    "🎯 Svar: _ _ _"
   ]
  },
  {
   "cell_type": "markdown",
   "id": "0e058c42",
   "metadata": {},
   "source": [
    "**Regionsspecifik analyse:** Filtrér datasættet for ejendomme i \"Region Hovedstaden\" (`Region` kolonne) og undersøg prisfordelingen. Lav et histogram `(kde=True)` og drøft dine observationer."
   ]
  },
  {
   "cell_type": "code",
   "execution_count": null,
   "id": "294cb9c2",
   "metadata": {},
   "outputs": [],
   "source": [
    "df_rh = ...\n",
    "..."
   ]
  },
  {
   "cell_type": "markdown",
   "id": "3cd03852",
   "metadata": {},
   "source": [
    "🎯 Svar: _ _ _"
   ]
  },
  {
   "cell_type": "markdown",
   "id": "db464137",
   "metadata": {},
   "source": [
    "**Ejendomstyper:** Hvilke ejendomstyper (`anvendelse`) er repræsenteret, og hvor stor en andel `normalize=True` af hver type er der? Hvorfor tror du, at nogle ejendomstyper er mere almindelige end andre?"
   ]
  },
  {
   "cell_type": "code",
   "execution_count": null,
   "id": "48ec4e34",
   "metadata": {},
   "outputs": [],
   "source": [
    "df['...']....(normalize=True)"
   ]
  },
  {
   "cell_type": "markdown",
   "id": "d083f501",
   "metadata": {},
   "source": [
    "🎯 Svar: _ _ _"
   ]
  },
  {
   "cell_type": "markdown",
   "id": "d2532f59",
   "metadata": {},
   "source": [
    "**Pris og anvendelse:** Undersøg medianprisen for de forskellige anvendelsestyper. Hvordan varierer priserne mellem ejendomstyper? Sortér resultaterne efter medianpris i faldende rækkefølge (`ascending=False`). Fortolk resultaterne."
   ]
  },
  {
   "cell_type": "code",
   "execution_count": null,
   "id": "52324663",
   "metadata": {},
   "outputs": [],
   "source": [
    "df....('anvendelse')..."
   ]
  },
  {
   "cell_type": "markdown",
   "id": "95a05f7b",
   "metadata": {},
   "source": [
    "🎯 Svar: _ _ _"
   ]
  },
  {
   "cell_type": "markdown",
   "id": "6a22bab3",
   "metadata": {},
   "source": [
    "### Visualisering og Videre Analyse\n",
    "\n",
    "**Boxplots:** Lav boxplots for at sammenligne priser mellem forskellige ejendomstyper. Overvej især forskellene mellem enfamiliehuse og ejerlejligheder. Tiløj en farveopdeling (`hue`) efter `Region`. Hvad kan du udlede af visualiseringeren?"
   ]
  },
  {
   "cell_type": "code",
   "execution_count": null,
   "id": "d7332a05",
   "metadata": {},
   "outputs": [],
   "source": [
    "plt.figure(figsize=(13, 7)) # sætter størrelsen på plottet\n",
    "sns.boxplot(..., x=..., y=..., orient='h', hue=...) # \n",
    "plt.legend(bbox_to_anchor=(1.05, 1), loc=2, borderaxespad=0.) # sætter legenden udenfor plot"
   ]
  },
  {
   "cell_type": "markdown",
   "id": "9f2b6db6",
   "metadata": {},
   "source": [
    "🎯 Svar: _ _ _"
   ]
  },
  {
   "cell_type": "markdown",
   "id": "7a30704a",
   "metadata": {},
   "source": [
    "**Standardafvigelse**: Beregn og forklar den prismæssige standardafvigelse for ejendomstyperne. Hvordan kan vi interpretere standardafvigelsen? Hvordan passer det sammen med hvad der kan ses i boxplot og histogrammer tidligere?"
   ]
  },
  {
   "cell_type": "code",
   "execution_count": null,
   "id": "5f80f9ee",
   "metadata": {},
   "outputs": [],
   "source": [
    "# Note: Sæt degrees of freedom til 0 (ddof=0)\n",
    "\n",
    "df....(ascending=False)"
   ]
  },
  {
   "cell_type": "markdown",
   "id": "e7a0e73b",
   "metadata": {},
   "source": [
    "🎯 Svar: _ _ _"
   ]
  },
  {
   "cell_type": "markdown",
   "id": "f777d2db",
   "metadata": {},
   "source": [
    "**Dyre Sogne**: Identificer de 5 sogne med de dyreste ejendomme (median) i Nordjylland. Vis medianprisen for hver sogn."
   ]
  },
  {
   "cell_type": "code",
   "execution_count": null,
   "id": "577fe5e2",
   "metadata": {},
   "outputs": [],
   "source": [
    "# lav en ny dataframe med kun boliger fra Region Nordjylland\n",
    "df_nordjylland = ...\n",
    "\n",
    "# beregn medianprisen per sogn og sortér i faldende rækkefølge\n",
    "df_nordjylland...."
   ]
  },
  {
   "cell_type": "markdown",
   "id": "06c9ec33",
   "metadata": {},
   "source": [
    "**Korrelationer:** Er der en sammenhæng mellem kvadratmeterpris og afstand til kysten i Nordjylland? Brug korrelation til at undersøge dette. Forklar resultatet."
   ]
  },
  {
   "cell_type": "code",
   "execution_count": null,
   "id": "f36e35f4",
   "metadata": {},
   "outputs": [],
   "source": [
    "df_nordjylland[...]"
   ]
  },
  {
   "cell_type": "markdown",
   "id": "71a4bf7f",
   "metadata": {},
   "source": [
    "🎯 Svar: _ _ _"
   ]
  },
  {
   "cell_type": "markdown",
   "id": "1be8e411",
   "metadata": {},
   "source": [
    "**Kvadratmeterpris og boligarialet:** \n",
    "\n",
    "- Lav et scatterplot for `price_per_sqm` versus `area`. Hvad kan vi se i dette plot?\n",
    "- Beregn korrelationen mellem `price_per_sqm` og `area` kun for ejerlejligheder i de forskellige regioner. Hvad kan vi udlede af dette?"
   ]
  },
  {
   "cell_type": "code",
   "execution_count": null,
   "id": "fd55a0ae",
   "metadata": {},
   "outputs": [],
   "source": [
    "# scatterplot\n",
    "sns....(data=..., x='...', y='...')"
   ]
  },
  {
   "cell_type": "code",
   "execution_count": null,
   "id": "f5af2db6",
   "metadata": {},
   "outputs": [],
   "source": [
    "# isoler ejerlejligheder\n",
    "df_ejerlejlighed = ...\n",
    "\n",
    "# beregn korrelationen mellem kvadratmeterprisen og arealet i hver region\n",
    "df_ejerlejlighed.groupby('Region')[['...', '...']]..."
   ]
  },
  {
   "cell_type": "markdown",
   "id": "cd4d3ccc",
   "metadata": {},
   "source": [
    "Fortolk resultaterne med fokus på forskelle mellem Region Hovedstaden og de andre regioner.\n",
    "\n",
    "🎯 Svar: _ _ _"
   ]
  },
  {
   "cell_type": "markdown",
   "id": "52722701",
   "metadata": {},
   "source": [
    "### Tilføjelse af ekstra data til analysen\n",
    "\n",
    "**Virksomhedsdata:** Åbn filen `kommune_business.csv.gz` og flet den med boligdataene. Når du sammler dataene, skal du sørge for at bruge den rigtige nøgler `right_on='kommune', left_on='label_dk'`\n",
    "\n",
    "Data findes også her: `https://aaubs.github.io/ds-master/data/boligpriser/kommune_business.csv.gz`"
   ]
  },
  {
   "cell_type": "code",
   "execution_count": null,
   "id": "117853c1",
   "metadata": {},
   "outputs": [],
   "source": [
    "df_business = ...\n",
    "\n",
    "df_merge = df.merge(..., right_on='kommune', left_on='label_dk')"
   ]
  },
  {
   "cell_type": "markdown",
   "id": "d6c05d10",
   "metadata": {},
   "source": [
    "Undersøg korrelationen mellem kvadratmeterpris og hhv. antal af indbyggere / antal nystiftede virksomheder per 1000 indbyggere"
   ]
  },
  {
   "cell_type": "code",
   "execution_count": null,
   "id": "805dc7bf",
   "metadata": {},
   "outputs": [],
   "source": [
    "df_merge[...]...()"
   ]
  },
  {
   "cell_type": "code",
   "execution_count": null,
   "id": "81eab415",
   "metadata": {},
   "outputs": [],
   "source": [
    "df_merge[['...', '...']]....()"
   ]
  },
  {
   "cell_type": "markdown",
   "id": "85e3be91",
   "metadata": {},
   "source": [
    "Fortolk resultaterne.\n",
    "\n",
    "🎯 Svar: _ _ _"
   ]
  }
 ],
 "metadata": {
  "kernelspec": {
   "display_name": "bds-streamlit",
   "language": "python",
   "name": "python3"
  },
  "language_info": {
   "codemirror_mode": {
    "name": "ipython",
    "version": 3
   },
   "file_extension": ".py",
   "mimetype": "text/x-python",
   "name": "python",
   "nbconvert_exporter": "python",
   "pygments_lexer": "ipython3",
   "version": "3.11.4"
  }
 },
 "nbformat": 4,
 "nbformat_minor": 5
}
